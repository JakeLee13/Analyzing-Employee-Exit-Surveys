{
 "cells": [
  {
   "cell_type": "markdown",
   "id": "f9b881d4",
   "metadata": {},
   "source": [
    "# Analyzing Employee Exit Surveys\n",
    "### Jake Lee\n",
    "***\n",
    "## Introduction\n",
    "***\n",
    "In this project we play the role of a data analyst seeking to please our stakeholders invested in two institutes: The Department of Education for Training and Employment (DETE) and Technical and Further Education (TAFE).\n",
    "\n",
    "We pretend our Stakeholders want to know the following questions regarding employee retention:\n",
    "- Are employees who only worked for the institutes for a short period of time resigning due to some kind of dissatisfaction? What about employees who have been there longer?\n",
    "- Are younger employees resigning due to some kind of dissatisfaction? What about older employees?\n",
    "\n",
    "To answer these questions we will clean, merge, and analyze a set of employee datasets gathered by the institutes which we will refer to as `dete_survey` and `tafe_survey` datasets."
   ]
  },
  {
   "cell_type": "markdown",
   "id": "b7cb629b",
   "metadata": {},
   "source": [
    "## Exploration\n",
    "***\n",
    "Lets begin by importing relevant libraries, reading in our surveys data, and exploring the data for cleaning purposes.\n",
    "\n",
    "We'll start with the `dete_survey` and then move onto `tafe_survey`."
   ]
  },
  {
   "cell_type": "code",
   "execution_count": 1,
   "id": "dcb6fe99",
   "metadata": {},
   "outputs": [],
   "source": [
    "# import libraries\n",
    "import pandas as pd\n",
    "import numpy as np\n",
    "import matplotlib.pyplot as plt\n",
    "from matplotlib import style\n",
    "%matplotlib inline\n",
    "\n",
    "# import csv data and assign to dataframes\n",
    "dete_survey = pd.read_csv('dete_survey.csv', na_values='Not Stated')\n",
    "tafe_survey = pd.read_csv('tafe_survey.csv')"
   ]
  },
  {
   "cell_type": "code",
   "execution_count": 2,
   "id": "220ea2d1",
   "metadata": {},
   "outputs": [
    {
     "data": {
      "text/html": [
       "<div>\n",
       "<style scoped>\n",
       "    .dataframe tbody tr th:only-of-type {\n",
       "        vertical-align: middle;\n",
       "    }\n",
       "\n",
       "    .dataframe tbody tr th {\n",
       "        vertical-align: top;\n",
       "    }\n",
       "\n",
       "    .dataframe thead th {\n",
       "        text-align: right;\n",
       "    }\n",
       "</style>\n",
       "<table border=\"1\" class=\"dataframe\">\n",
       "  <thead>\n",
       "    <tr style=\"text-align: right;\">\n",
       "      <th></th>\n",
       "      <th>ID</th>\n",
       "      <th>SeparationType</th>\n",
       "      <th>Cease Date</th>\n",
       "      <th>DETE Start Date</th>\n",
       "      <th>Role Start Date</th>\n",
       "      <th>Position</th>\n",
       "      <th>Classification</th>\n",
       "      <th>Region</th>\n",
       "      <th>Business Unit</th>\n",
       "      <th>Employment Status</th>\n",
       "      <th>...</th>\n",
       "      <th>Kept informed</th>\n",
       "      <th>Wellness programs</th>\n",
       "      <th>Health &amp; Safety</th>\n",
       "      <th>Gender</th>\n",
       "      <th>Age</th>\n",
       "      <th>Aboriginal</th>\n",
       "      <th>Torres Strait</th>\n",
       "      <th>South Sea</th>\n",
       "      <th>Disability</th>\n",
       "      <th>NESB</th>\n",
       "    </tr>\n",
       "  </thead>\n",
       "  <tbody>\n",
       "    <tr>\n",
       "      <th>0</th>\n",
       "      <td>1</td>\n",
       "      <td>Ill Health Retirement</td>\n",
       "      <td>08/2012</td>\n",
       "      <td>1984.0</td>\n",
       "      <td>2004.0</td>\n",
       "      <td>Public Servant</td>\n",
       "      <td>A01-A04</td>\n",
       "      <td>Central Office</td>\n",
       "      <td>Corporate Strategy and Peformance</td>\n",
       "      <td>Permanent Full-time</td>\n",
       "      <td>...</td>\n",
       "      <td>N</td>\n",
       "      <td>N</td>\n",
       "      <td>N</td>\n",
       "      <td>Male</td>\n",
       "      <td>56-60</td>\n",
       "      <td>NaN</td>\n",
       "      <td>NaN</td>\n",
       "      <td>NaN</td>\n",
       "      <td>NaN</td>\n",
       "      <td>Yes</td>\n",
       "    </tr>\n",
       "    <tr>\n",
       "      <th>1</th>\n",
       "      <td>2</td>\n",
       "      <td>Voluntary Early Retirement (VER)</td>\n",
       "      <td>08/2012</td>\n",
       "      <td>NaN</td>\n",
       "      <td>NaN</td>\n",
       "      <td>Public Servant</td>\n",
       "      <td>AO5-AO7</td>\n",
       "      <td>Central Office</td>\n",
       "      <td>Corporate Strategy and Peformance</td>\n",
       "      <td>Permanent Full-time</td>\n",
       "      <td>...</td>\n",
       "      <td>N</td>\n",
       "      <td>N</td>\n",
       "      <td>N</td>\n",
       "      <td>Male</td>\n",
       "      <td>56-60</td>\n",
       "      <td>NaN</td>\n",
       "      <td>NaN</td>\n",
       "      <td>NaN</td>\n",
       "      <td>NaN</td>\n",
       "      <td>NaN</td>\n",
       "    </tr>\n",
       "    <tr>\n",
       "      <th>2</th>\n",
       "      <td>3</td>\n",
       "      <td>Voluntary Early Retirement (VER)</td>\n",
       "      <td>05/2012</td>\n",
       "      <td>2011.0</td>\n",
       "      <td>2011.0</td>\n",
       "      <td>Schools Officer</td>\n",
       "      <td>NaN</td>\n",
       "      <td>Central Office</td>\n",
       "      <td>Education Queensland</td>\n",
       "      <td>Permanent Full-time</td>\n",
       "      <td>...</td>\n",
       "      <td>N</td>\n",
       "      <td>N</td>\n",
       "      <td>N</td>\n",
       "      <td>Male</td>\n",
       "      <td>61 or older</td>\n",
       "      <td>NaN</td>\n",
       "      <td>NaN</td>\n",
       "      <td>NaN</td>\n",
       "      <td>NaN</td>\n",
       "      <td>NaN</td>\n",
       "    </tr>\n",
       "  </tbody>\n",
       "</table>\n",
       "<p>3 rows × 56 columns</p>\n",
       "</div>"
      ],
      "text/plain": [
       "   ID                    SeparationType Cease Date  DETE Start Date  \\\n",
       "0   1             Ill Health Retirement    08/2012           1984.0   \n",
       "1   2  Voluntary Early Retirement (VER)    08/2012              NaN   \n",
       "2   3  Voluntary Early Retirement (VER)    05/2012           2011.0   \n",
       "\n",
       "   Role Start Date         Position Classification          Region  \\\n",
       "0           2004.0   Public Servant        A01-A04  Central Office   \n",
       "1              NaN   Public Servant        AO5-AO7  Central Office   \n",
       "2           2011.0  Schools Officer            NaN  Central Office   \n",
       "\n",
       "                       Business Unit    Employment Status  ...  Kept informed  \\\n",
       "0  Corporate Strategy and Peformance  Permanent Full-time  ...              N   \n",
       "1  Corporate Strategy and Peformance  Permanent Full-time  ...              N   \n",
       "2               Education Queensland  Permanent Full-time  ...              N   \n",
       "\n",
       "   Wellness programs  Health & Safety  Gender          Age  Aboriginal  \\\n",
       "0                  N                N    Male        56-60         NaN   \n",
       "1                  N                N    Male        56-60         NaN   \n",
       "2                  N                N    Male  61 or older         NaN   \n",
       "\n",
       "   Torres Strait  South Sea  Disability  NESB  \n",
       "0            NaN        NaN         NaN   Yes  \n",
       "1            NaN        NaN         NaN   NaN  \n",
       "2            NaN        NaN         NaN   NaN  \n",
       "\n",
       "[3 rows x 56 columns]"
      ]
     },
     "execution_count": 2,
     "metadata": {},
     "output_type": "execute_result"
    }
   ],
   "source": [
    "# first three dete rows\n",
    "dete_survey.head(3)"
   ]
  },
  {
   "cell_type": "code",
   "execution_count": 3,
   "id": "bbc78bff",
   "metadata": {},
   "outputs": [
    {
     "data": {
      "text/plain": [
       "ID                                       0\n",
       "SeparationType                           0\n",
       "Cease Date                              34\n",
       "DETE Start Date                         73\n",
       "Role Start Date                         98\n",
       "Position                                 5\n",
       "Classification                         367\n",
       "Region                                 105\n",
       "Business Unit                          696\n",
       "Employment Status                        5\n",
       "Career move to public sector             0\n",
       "Career move to private sector            0\n",
       "Interpersonal conflicts                  0\n",
       "Job dissatisfaction                      0\n",
       "Dissatisfaction with the department      0\n",
       "Physical work environment                0\n",
       "Lack of recognition                      0\n",
       "Lack of job security                     0\n",
       "Work location                            0\n",
       "Employment conditions                    0\n",
       "Maternity/family                         0\n",
       "Relocation                               0\n",
       "Study/Travel                             0\n",
       "Ill Health                               0\n",
       "Traumatic incident                       0\n",
       "Work life balance                        0\n",
       "Workload                                 0\n",
       "None of the above                        0\n",
       "Professional Development                14\n",
       "Opportunities for promotion             87\n",
       "Staff morale                             6\n",
       "Workplace issue                         34\n",
       "Physical environment                     5\n",
       "Worklife balance                         7\n",
       "Stress and pressure support             12\n",
       "Performance of supervisor                9\n",
       "Peer support                            10\n",
       "Initiative                               9\n",
       "Skills                                  11\n",
       "Coach                                   55\n",
       "Career Aspirations                      76\n",
       "Feedback                                30\n",
       "Further PD                              54\n",
       "Communication                            8\n",
       "My say                                  10\n",
       "Information                              6\n",
       "Kept informed                            9\n",
       "Wellness programs                       56\n",
       "Health & Safety                         29\n",
       "Gender                                  24\n",
       "Age                                     11\n",
       "Aboriginal                             806\n",
       "Torres Strait                          819\n",
       "South Sea                              815\n",
       "Disability                             799\n",
       "NESB                                   790\n",
       "dtype: int64"
      ]
     },
     "execution_count": 3,
     "metadata": {},
     "output_type": "execute_result"
    }
   ],
   "source": [
    "# number of null values for each column\n",
    "dete_survey.isnull().sum()"
   ]
  },
  {
   "cell_type": "code",
   "execution_count": 4,
   "id": "3994f0c7",
   "metadata": {},
   "outputs": [
    {
     "data": {
      "text/plain": [
       "ID                                       0\n",
       "SeparationType                           0\n",
       "Cease Date                              34\n",
       "DETE Start Date                         73\n",
       "Role Start Date                         98\n",
       "Position                                 5\n",
       "Classification                         367\n",
       "Region                                 105\n",
       "Business Unit                          696\n",
       "Employment Status                        5\n",
       "Career move to public sector             0\n",
       "Career move to private sector            0\n",
       "Interpersonal conflicts                  0\n",
       "Job dissatisfaction                      0\n",
       "Dissatisfaction with the department      0\n",
       "Physical work environment                0\n",
       "Lack of recognition                      0\n",
       "Lack of job security                     0\n",
       "Work location                            0\n",
       "Employment conditions                    0\n",
       "Maternity/family                         0\n",
       "Relocation                               0\n",
       "Study/Travel                             0\n",
       "Ill Health                               0\n",
       "Traumatic incident                       0\n",
       "Work life balance                        0\n",
       "Workload                                 0\n",
       "None of the above                        0\n",
       "Gender                                  24\n",
       "Age                                     11\n",
       "Aboriginal                             806\n",
       "Torres Strait                          819\n",
       "South Sea                              815\n",
       "Disability                             799\n",
       "NESB                                   790\n",
       "dtype: int64"
      ]
     },
     "execution_count": 4,
     "metadata": {},
     "output_type": "execute_result"
    }
   ],
   "source": [
    "# drop columns with high null counts and low relevance\n",
    "dete_survey_updated = dete_survey.drop(dete_survey.columns[28:49], axis=1)\n",
    "dete_survey_updated.isnull().sum()"
   ]
  },
  {
   "cell_type": "code",
   "execution_count": 5,
   "id": "6392a0c4",
   "metadata": {
    "scrolled": false
   },
   "outputs": [
    {
     "data": {
      "text/plain": [
       "id                                       0\n",
       "separationtype                           0\n",
       "cease_date                              34\n",
       "dete_start_date                         73\n",
       "role_start_date                         98\n",
       "position                                 5\n",
       "classification                         367\n",
       "region                                 105\n",
       "business_unit                          696\n",
       "employment_status                        5\n",
       "career_move_to_public_sector             0\n",
       "career_move_to_private_sector            0\n",
       "interpersonal_conflicts                  0\n",
       "job_dissatisfaction                      0\n",
       "dissatisfaction_with_the_department      0\n",
       "physical_work_environment                0\n",
       "lack_of_recognition                      0\n",
       "lack_of_job_security                     0\n",
       "work_location                            0\n",
       "employment_conditions                    0\n",
       "maternity/family                         0\n",
       "relocation                               0\n",
       "study/travel                             0\n",
       "ill_health                               0\n",
       "traumatic_incident                       0\n",
       "work_life_balance                        0\n",
       "workload                                 0\n",
       "none_of_the_above                        0\n",
       "gender                                  24\n",
       "age                                     11\n",
       "aboriginal                             806\n",
       "torres_strait                          819\n",
       "south_sea                              815\n",
       "disability                             799\n",
       "nesb                                   790\n",
       "dtype: int64"
      ]
     },
     "execution_count": 5,
     "metadata": {},
     "output_type": "execute_result"
    }
   ],
   "source": [
    "# standardize the column names to match with tafe\n",
    "dete_survey_updated.columns = dete_survey_updated.columns.str.lower().str.strip().str.replace(' ','_')\n",
    "\n",
    "# show updated column names\n",
    "dete_survey_updated.isnull().sum()"
   ]
  },
  {
   "cell_type": "markdown",
   "id": "0a26a8e3",
   "metadata": {},
   "source": [
    "`dete_survey` now has:\n",
    "- relevant features\n",
    "- standardized column names\n",
    "\n",
    "Lets now move on to exploring `tafe_survey`"
   ]
  },
  {
   "cell_type": "code",
   "execution_count": 6,
   "id": "40d4da0e",
   "metadata": {},
   "outputs": [
    {
     "data": {
      "text/html": [
       "<div>\n",
       "<style scoped>\n",
       "    .dataframe tbody tr th:only-of-type {\n",
       "        vertical-align: middle;\n",
       "    }\n",
       "\n",
       "    .dataframe tbody tr th {\n",
       "        vertical-align: top;\n",
       "    }\n",
       "\n",
       "    .dataframe thead th {\n",
       "        text-align: right;\n",
       "    }\n",
       "</style>\n",
       "<table border=\"1\" class=\"dataframe\">\n",
       "  <thead>\n",
       "    <tr style=\"text-align: right;\">\n",
       "      <th></th>\n",
       "      <th>Record ID</th>\n",
       "      <th>Institute</th>\n",
       "      <th>WorkArea</th>\n",
       "      <th>CESSATION YEAR</th>\n",
       "      <th>Reason for ceasing employment</th>\n",
       "      <th>Contributing Factors. Career Move - Public Sector</th>\n",
       "      <th>Contributing Factors. Career Move - Private Sector</th>\n",
       "      <th>Contributing Factors. Career Move - Self-employment</th>\n",
       "      <th>Contributing Factors. Ill Health</th>\n",
       "      <th>Contributing Factors. Maternity/Family</th>\n",
       "      <th>...</th>\n",
       "      <th>Workplace. Topic:Does your workplace promote a work culture free from all forms of unlawful discrimination?</th>\n",
       "      <th>Workplace. Topic:Does your workplace promote and practice the principles of employment equity?</th>\n",
       "      <th>Workplace. Topic:Does your workplace value the diversity of its employees?</th>\n",
       "      <th>Workplace. Topic:Would you recommend the Institute as an employer to others?</th>\n",
       "      <th>Gender. What is your Gender?</th>\n",
       "      <th>CurrentAge. Current Age</th>\n",
       "      <th>Employment Type. Employment Type</th>\n",
       "      <th>Classification. Classification</th>\n",
       "      <th>LengthofServiceOverall. Overall Length of Service at Institute (in years)</th>\n",
       "      <th>LengthofServiceCurrent. Length of Service at current workplace (in years)</th>\n",
       "    </tr>\n",
       "  </thead>\n",
       "  <tbody>\n",
       "    <tr>\n",
       "      <th>0</th>\n",
       "      <td>6.341330e+17</td>\n",
       "      <td>Southern Queensland Institute of TAFE</td>\n",
       "      <td>Non-Delivery (corporate)</td>\n",
       "      <td>2010.0</td>\n",
       "      <td>Contract Expired</td>\n",
       "      <td>NaN</td>\n",
       "      <td>NaN</td>\n",
       "      <td>NaN</td>\n",
       "      <td>NaN</td>\n",
       "      <td>NaN</td>\n",
       "      <td>...</td>\n",
       "      <td>Yes</td>\n",
       "      <td>Yes</td>\n",
       "      <td>Yes</td>\n",
       "      <td>Yes</td>\n",
       "      <td>Female</td>\n",
       "      <td>26  30</td>\n",
       "      <td>Temporary Full-time</td>\n",
       "      <td>Administration (AO)</td>\n",
       "      <td>1-2</td>\n",
       "      <td>1-2</td>\n",
       "    </tr>\n",
       "    <tr>\n",
       "      <th>1</th>\n",
       "      <td>6.341337e+17</td>\n",
       "      <td>Mount Isa Institute of TAFE</td>\n",
       "      <td>Non-Delivery (corporate)</td>\n",
       "      <td>2010.0</td>\n",
       "      <td>Retirement</td>\n",
       "      <td>-</td>\n",
       "      <td>-</td>\n",
       "      <td>-</td>\n",
       "      <td>-</td>\n",
       "      <td>-</td>\n",
       "      <td>...</td>\n",
       "      <td>Yes</td>\n",
       "      <td>Yes</td>\n",
       "      <td>Yes</td>\n",
       "      <td>Yes</td>\n",
       "      <td>NaN</td>\n",
       "      <td>NaN</td>\n",
       "      <td>NaN</td>\n",
       "      <td>NaN</td>\n",
       "      <td>NaN</td>\n",
       "      <td>NaN</td>\n",
       "    </tr>\n",
       "    <tr>\n",
       "      <th>2</th>\n",
       "      <td>6.341388e+17</td>\n",
       "      <td>Mount Isa Institute of TAFE</td>\n",
       "      <td>Delivery (teaching)</td>\n",
       "      <td>2010.0</td>\n",
       "      <td>Retirement</td>\n",
       "      <td>-</td>\n",
       "      <td>-</td>\n",
       "      <td>-</td>\n",
       "      <td>-</td>\n",
       "      <td>-</td>\n",
       "      <td>...</td>\n",
       "      <td>Yes</td>\n",
       "      <td>Yes</td>\n",
       "      <td>Yes</td>\n",
       "      <td>Yes</td>\n",
       "      <td>NaN</td>\n",
       "      <td>NaN</td>\n",
       "      <td>NaN</td>\n",
       "      <td>NaN</td>\n",
       "      <td>NaN</td>\n",
       "      <td>NaN</td>\n",
       "    </tr>\n",
       "  </tbody>\n",
       "</table>\n",
       "<p>3 rows × 72 columns</p>\n",
       "</div>"
      ],
      "text/plain": [
       "      Record ID                              Institute  \\\n",
       "0  6.341330e+17  Southern Queensland Institute of TAFE   \n",
       "1  6.341337e+17            Mount Isa Institute of TAFE   \n",
       "2  6.341388e+17            Mount Isa Institute of TAFE   \n",
       "\n",
       "                   WorkArea  CESSATION YEAR Reason for ceasing employment  \\\n",
       "0  Non-Delivery (corporate)          2010.0              Contract Expired   \n",
       "1  Non-Delivery (corporate)          2010.0                    Retirement   \n",
       "2       Delivery (teaching)          2010.0                    Retirement   \n",
       "\n",
       "  Contributing Factors. Career Move - Public Sector   \\\n",
       "0                                                NaN   \n",
       "1                                                  -   \n",
       "2                                                  -   \n",
       "\n",
       "  Contributing Factors. Career Move - Private Sector   \\\n",
       "0                                                NaN    \n",
       "1                                                  -    \n",
       "2                                                  -    \n",
       "\n",
       "  Contributing Factors. Career Move - Self-employment  \\\n",
       "0                                                NaN    \n",
       "1                                                  -    \n",
       "2                                                  -    \n",
       "\n",
       "  Contributing Factors. Ill Health Contributing Factors. Maternity/Family  \\\n",
       "0                              NaN                                    NaN   \n",
       "1                                -                                      -   \n",
       "2                                -                                      -   \n",
       "\n",
       "   ...  \\\n",
       "0  ...   \n",
       "1  ...   \n",
       "2  ...   \n",
       "\n",
       "  Workplace. Topic:Does your workplace promote a work culture free from all forms of unlawful discrimination?  \\\n",
       "0                                                Yes                                                            \n",
       "1                                                Yes                                                            \n",
       "2                                                Yes                                                            \n",
       "\n",
       "  Workplace. Topic:Does your workplace promote and practice the principles of employment equity?  \\\n",
       "0                                                Yes                                               \n",
       "1                                                Yes                                               \n",
       "2                                                Yes                                               \n",
       "\n",
       "  Workplace. Topic:Does your workplace value the diversity of its employees?  \\\n",
       "0                                                Yes                           \n",
       "1                                                Yes                           \n",
       "2                                                Yes                           \n",
       "\n",
       "  Workplace. Topic:Would you recommend the Institute as an employer to others?  \\\n",
       "0                                                Yes                             \n",
       "1                                                Yes                             \n",
       "2                                                Yes                             \n",
       "\n",
       "  Gender. What is your Gender? CurrentAge. Current Age  \\\n",
       "0                       Female                  26  30   \n",
       "1                          NaN                     NaN   \n",
       "2                          NaN                     NaN   \n",
       "\n",
       "  Employment Type. Employment Type Classification. Classification  \\\n",
       "0              Temporary Full-time            Administration (AO)   \n",
       "1                              NaN                            NaN   \n",
       "2                              NaN                            NaN   \n",
       "\n",
       "  LengthofServiceOverall. Overall Length of Service at Institute (in years)  \\\n",
       "0                                                1-2                          \n",
       "1                                                NaN                          \n",
       "2                                                NaN                          \n",
       "\n",
       "  LengthofServiceCurrent. Length of Service at current workplace (in years)  \n",
       "0                                                1-2                         \n",
       "1                                                NaN                         \n",
       "2                                                NaN                         \n",
       "\n",
       "[3 rows x 72 columns]"
      ]
     },
     "execution_count": 6,
     "metadata": {},
     "output_type": "execute_result"
    }
   ],
   "source": [
    "tafe_survey.head(3)"
   ]
  },
  {
   "cell_type": "code",
   "execution_count": 7,
   "id": "ec8f4214",
   "metadata": {
    "scrolled": true
   },
   "outputs": [
    {
     "data": {
      "text/plain": [
       "Record ID                                                                      0\n",
       "Institute                                                                      0\n",
       "WorkArea                                                                       0\n",
       "CESSATION YEAR                                                                 7\n",
       "Reason for ceasing employment                                                  1\n",
       "                                                                            ... \n",
       "CurrentAge. Current Age                                                      106\n",
       "Employment Type. Employment Type                                             106\n",
       "Classification. Classification                                               106\n",
       "LengthofServiceOverall. Overall Length of Service at Institute (in years)    106\n",
       "LengthofServiceCurrent. Length of Service at current workplace (in years)    106\n",
       "Length: 72, dtype: int64"
      ]
     },
     "execution_count": 7,
     "metadata": {},
     "output_type": "execute_result"
    }
   ],
   "source": [
    "tafe_survey.isnull().sum()"
   ]
  },
  {
   "cell_type": "code",
   "execution_count": 8,
   "id": "94a12fef",
   "metadata": {},
   "outputs": [
    {
     "data": {
      "text/plain": [
       "Record ID                                                                      0\n",
       "Institute                                                                      0\n",
       "WorkArea                                                                       0\n",
       "CESSATION YEAR                                                                 7\n",
       "Reason for ceasing employment                                                  1\n",
       "Contributing Factors. Career Move - Public Sector                            265\n",
       "Contributing Factors. Career Move - Private Sector                           265\n",
       "Contributing Factors. Career Move - Self-employment                          265\n",
       "Contributing Factors. Ill Health                                             265\n",
       "Contributing Factors. Maternity/Family                                       265\n",
       "Contributing Factors. Dissatisfaction                                        265\n",
       "Contributing Factors. Job Dissatisfaction                                    265\n",
       "Contributing Factors. Interpersonal Conflict                                 265\n",
       "Contributing Factors. Study                                                  265\n",
       "Contributing Factors. Travel                                                 265\n",
       "Contributing Factors. Other                                                  265\n",
       "Contributing Factors. NONE                                                   265\n",
       "Gender. What is your Gender?                                                 106\n",
       "CurrentAge. Current Age                                                      106\n",
       "Employment Type. Employment Type                                             106\n",
       "Classification. Classification                                               106\n",
       "LengthofServiceOverall. Overall Length of Service at Institute (in years)    106\n",
       "LengthofServiceCurrent. Length of Service at current workplace (in years)    106\n",
       "dtype: int64"
      ]
     },
     "execution_count": 8,
     "metadata": {},
     "output_type": "execute_result"
    }
   ],
   "source": [
    "# drop columns with high null counts and low relevance\n",
    "tafe_survey_updated = tafe_survey.drop(tafe_survey.columns[17:66], axis=1)\n",
    "tafe_survey_updated.isnull().sum()"
   ]
  },
  {
   "cell_type": "code",
   "execution_count": 9,
   "id": "e63e1153",
   "metadata": {},
   "outputs": [
    {
     "data": {
      "text/plain": [
       "id                                                       0\n",
       "Institute                                                0\n",
       "WorkArea                                                 0\n",
       "cease_date                                               7\n",
       "separationtype                                           1\n",
       "Contributing Factors. Career Move - Public Sector      265\n",
       "Contributing Factors. Career Move - Private Sector     265\n",
       "Contributing Factors. Career Move - Self-employment    265\n",
       "Contributing Factors. Ill Health                       265\n",
       "Contributing Factors. Maternity/Family                 265\n",
       "Contributing Factors. Dissatisfaction                  265\n",
       "Contributing Factors. Job Dissatisfaction              265\n",
       "Contributing Factors. Interpersonal Conflict           265\n",
       "Contributing Factors. Study                            265\n",
       "Contributing Factors. Travel                           265\n",
       "Contributing Factors. Other                            265\n",
       "Contributing Factors. NONE                             265\n",
       "gender                                                 106\n",
       "age                                                    106\n",
       "employment_status                                      106\n",
       "position                                               106\n",
       "institute_service                                      106\n",
       "role_service                                           106\n",
       "dtype: int64"
      ]
     },
     "execution_count": 9,
     "metadata": {},
     "output_type": "execute_result"
    }
   ],
   "source": [
    "# standardize column names\n",
    "col_map = {'Record ID':'id',\n",
    "          'CESSATION YEAR':'cease_date',\n",
    "          'Reason for ceasing employment':'separationtype',\n",
    "          'Gender. What is your Gender?':'gender',\n",
    "          'CurrentAge. Current Age':'age',\n",
    "          'Employment Type. Employment Type':'employment_status',\n",
    "          'Classification. Classification':'position', \n",
    "          'LengthofServiceOverall. Overall Length of Service at Institute (in years)':'institute_service',\n",
    "          'LengthofServiceCurrent. Length of Service at current workplace (in years)':'role_service'}\n",
    "\n",
    "tafe_survey_updated = tafe_survey_updated.rename(col_map, axis=1)\n",
    "tafe_survey_updated.isnull().sum()\n"
   ]
  },
  {
   "cell_type": "markdown",
   "id": "d28454a6",
   "metadata": {},
   "source": [
    "`tafe_survey` now has:\n",
    "- relevant features\n",
    "- standardized column names\n",
    "\n",
    "Lets observe what factors stand out in `separationtype` for each survey"
   ]
  },
  {
   "cell_type": "code",
   "execution_count": 10,
   "id": "1657e41b",
   "metadata": {},
   "outputs": [
    {
     "data": {
      "text/plain": [
       "Age Retirement                          285\n",
       "Resignation-Other reasons               150\n",
       "Resignation-Other employer               91\n",
       "Resignation-Move overseas/interstate     70\n",
       "Voluntary Early Retirement (VER)         67\n",
       "Ill Health Retirement                    61\n",
       "Other                                    49\n",
       "Contract Expired                         34\n",
       "Termination                              15\n",
       "Name: separationtype, dtype: int64"
      ]
     },
     "execution_count": 10,
     "metadata": {},
     "output_type": "execute_result"
    }
   ],
   "source": [
    "dete_survey_updated[\"separationtype\"].value_counts()"
   ]
  },
  {
   "cell_type": "code",
   "execution_count": 11,
   "id": "c70e67c2",
   "metadata": {},
   "outputs": [
    {
     "data": {
      "text/plain": [
       "Resignation                 340\n",
       "Contract Expired            127\n",
       "Retrenchment/ Redundancy    104\n",
       "Retirement                   82\n",
       "Transfer                     25\n",
       "Termination                  23\n",
       "Name: separationtype, dtype: int64"
      ]
     },
     "execution_count": 11,
     "metadata": {},
     "output_type": "execute_result"
    }
   ],
   "source": [
    "tafe_survey_updated[\"separationtype\"].value_counts()"
   ]
  },
  {
   "cell_type": "markdown",
   "id": "3e8bdf4b",
   "metadata": {},
   "source": [
    "## Exploration Part 2\n",
    "***\n",
    "Lets reduce our dataframes down to only respondents who have a resignation `separationtype` in order to discover factors causing employees to leave.\n",
    "\n",
    "For `dete_survey` there are three types of Resignation:\n",
    "- `Resignation-Other reasons`               \n",
    "- `Resignation-Other employer`               \n",
    "- `Resignation-Move overseas/interstate`\n",
    "\n",
    "For `tafe_survey` there is only:\n",
    "- `Resignation`"
   ]
  },
  {
   "cell_type": "code",
   "execution_count": 12,
   "id": "902bf9fc",
   "metadata": {},
   "outputs": [
    {
     "data": {
      "text/plain": [
       "Resignation-Other reasons               150\n",
       "Resignation-Other employer               91\n",
       "Resignation-Move overseas/interstate     70\n",
       "Name: separationtype, dtype: int64"
      ]
     },
     "execution_count": 12,
     "metadata": {},
     "output_type": "execute_result"
    }
   ],
   "source": [
    "# reduce for dete dataframe\n",
    "dete_resignations = dete_survey_updated[(dete_survey_updated['separationtype'] == 'Resignation-Other reasons') | (dete_survey_updated['separationtype'] == 'Resignation-Other employer') | (dete_survey_updated['separationtype'] == 'Resignation-Move overseas/interstate')].copy()\n",
    "\n",
    "# check\n",
    "dete_resignations['separationtype'].value_counts()"
   ]
  },
  {
   "cell_type": "code",
   "execution_count": 13,
   "id": "838f783d",
   "metadata": {},
   "outputs": [
    {
     "data": {
      "text/plain": [
       "Resignation    340\n",
       "Name: separationtype, dtype: int64"
      ]
     },
     "execution_count": 13,
     "metadata": {},
     "output_type": "execute_result"
    }
   ],
   "source": [
    "#reduce for tafe dataframe\n",
    "tafe_resignations = tafe_survey_updated[tafe_survey_updated['separationtype'] == 'Resignation'].copy()\n",
    "\n",
    "# check\n",
    "tafe_resignations['separationtype'].value_counts()                                                                                      "
   ]
  },
  {
   "cell_type": "markdown",
   "id": "06778dfd",
   "metadata": {},
   "source": [
    "Now that our dataframes are sinificantly reduced, lets quickly check for inconsistent data by comparing start dates with `cease_date` and `date_resignations`."
   ]
  },
  {
   "cell_type": "code",
   "execution_count": 14,
   "id": "ddf56623",
   "metadata": {},
   "outputs": [
    {
     "data": {
      "text/plain": [
       "2013    146\n",
       "2012    129\n",
       "2014     22\n",
       "2010      2\n",
       "2006      1\n",
       "Name: cease_date, dtype: int64"
      ]
     },
     "execution_count": 14,
     "metadata": {},
     "output_type": "execute_result"
    }
   ],
   "source": [
    "# extract, standardize years\n",
    "dete_resignations['cease_date'] = dete_resignations['cease_date'].str.extract(r\"([1-2][0-9]{3})\")\n",
    "# check\n",
    "dete_resignations['cease_date'].value_counts()\n"
   ]
  },
  {
   "cell_type": "code",
   "execution_count": 15,
   "id": "24b99dce",
   "metadata": {},
   "outputs": [
    {
     "data": {
      "text/plain": [
       "2011.0    24\n",
       "2008.0    22\n",
       "2012.0    21\n",
       "2007.0    21\n",
       "2010.0    17\n",
       "2005.0    15\n",
       "2004.0    14\n",
       "2006.0    13\n",
       "2009.0    13\n",
       "2013.0    10\n",
       "2000.0     9\n",
       "1999.0     8\n",
       "1994.0     6\n",
       "2003.0     6\n",
       "1992.0     6\n",
       "1996.0     6\n",
       "1998.0     6\n",
       "2002.0     6\n",
       "1990.0     5\n",
       "1997.0     5\n",
       "1980.0     5\n",
       "1993.0     5\n",
       "1989.0     4\n",
       "1991.0     4\n",
       "1988.0     4\n",
       "1995.0     4\n",
       "1986.0     3\n",
       "2001.0     3\n",
       "1985.0     3\n",
       "1983.0     2\n",
       "1976.0     2\n",
       "1974.0     2\n",
       "1975.0     1\n",
       "1984.0     1\n",
       "1971.0     1\n",
       "1982.0     1\n",
       "1972.0     1\n",
       "1963.0     1\n",
       "1977.0     1\n",
       "1973.0     1\n",
       "1987.0     1\n",
       "Name: dete_start_date, dtype: int64"
      ]
     },
     "execution_count": 15,
     "metadata": {},
     "output_type": "execute_result"
    }
   ],
   "source": [
    "# extract, standardize years \n",
    "dete_resignations['dete_start_date'].value_counts()"
   ]
  },
  {
   "cell_type": "code",
   "execution_count": 16,
   "id": "25d90da7",
   "metadata": {},
   "outputs": [
    {
     "data": {
      "text/plain": [
       "2011.0    116\n",
       "2012.0     94\n",
       "2010.0     68\n",
       "2013.0     55\n",
       "2009.0      2\n",
       "Name: cease_date, dtype: int64"
      ]
     },
     "execution_count": 16,
     "metadata": {},
     "output_type": "execute_result"
    }
   ],
   "source": [
    "tafe_resignations['cease_date'].value_counts()"
   ]
  },
  {
   "cell_type": "markdown",
   "id": "752aa913",
   "metadata": {},
   "source": [
    "Lets use the valid dates to look at how employee's number of years of service factor into our overall questions:\n",
    "\n",
    "- Are employees who only worked for the institutes for a short period of time resigning due to some kind of dissatisfaction? What about employees who have been there longer?\n",
    "- Are younger employees resigning due to some kind of dissatisfaction? What about older employees?\n",
    "\n",
    "Since `tafe_resignations` already has a column `institute_service`, lets create a matching column for dete_resignations."
   ]
  },
  {
   "cell_type": "code",
   "execution_count": 17,
   "id": "85e5fd6c",
   "metadata": {},
   "outputs": [
    {
     "data": {
      "text/plain": [
       "10.457875457875458"
      ]
     },
     "execution_count": 17,
     "metadata": {},
     "output_type": "execute_result"
    }
   ],
   "source": [
    "# create new col 'institute service' by subracting start dates by end dates\n",
    "dete_resignations[\"institute_service\"] = dete_resignations[\"cease_date\"].astype(float) - dete_resignations[\"dete_start_date\"].astype(float)\n",
    "\n",
    "# check and observe average years of service\n",
    "dete_resignations[\"institute_service\"].mean()"
   ]
  },
  {
   "cell_type": "code",
   "execution_count": 18,
   "id": "a0bb215c",
   "metadata": {},
   "outputs": [
    {
     "data": {
      "text/plain": [
       "Less than 1 year      73\n",
       "1-2                   64\n",
       "3-4                   63\n",
       "5-6                   33\n",
       "11-20                 26\n",
       "7-10                  21\n",
       "More than 20 years    10\n",
       "Name: institute_service, dtype: int64"
      ]
     },
     "execution_count": 18,
     "metadata": {},
     "output_type": "execute_result"
    }
   ],
   "source": [
    "# compare means\n",
    "tafe_resignations[\"institute_service\"].value_counts()"
   ]
  },
  {
   "cell_type": "markdown",
   "id": "0ba59998",
   "metadata": {},
   "source": [
    "## Identifying Dissatisfied Employees\n",
    "***\n",
    "Now that we have a years of service column `institute_service`, we can move forward to identifying any employees who resigned because they were dissatisfied. \n",
    "\n",
    "From `tafe_survey_updated` we can analyze:\n",
    "- `Contributing Factors. Dissatisfaction`\n",
    "- `Contributing Factors. Job Dissatisfaction`\n",
    "\n",
    "From `dete_survey_updated` we can analyze:\n",
    "- `job_dissatisfaction`\n",
    "- `dissatisfaction_with_the_department`\n",
    "- `physical_work_environment`\n",
    "- `lack_of_recognition`\n",
    "- `lack_of_job_security`\n",
    "- `work_location`\n",
    "- `employment_conditions`\n",
    "- `work_life_balance`\n",
    "- `workload`\n",
    "\n",
    "If an employee marked any of these as `True`, we mark them as dissatisfied in a new column. First, lets get an overview on what factors are contributing to dissatisfaction most."
   ]
  },
  {
   "cell_type": "code",
   "execution_count": 19,
   "id": "36fb03e4",
   "metadata": {},
   "outputs": [
    {
     "name": "stdout",
     "output_type": "stream",
     "text": [
      "-                                         277\n",
      "Contributing Factors. Dissatisfaction      55\n",
      "NaN                                         8\n",
      "Name: Contributing Factors. Dissatisfaction, dtype: int64 \n",
      "\n",
      "-                      270\n",
      "Job Dissatisfaction     62\n",
      "NaN                      8\n",
      "Name: Contributing Factors. Job Dissatisfaction, dtype: int64 \n",
      "\n"
     ]
    }
   ],
   "source": [
    "# overview on tafe dissatisfactions\n",
    "tafe_dis_cols = ['Contributing Factors. Dissatisfaction','Contributing Factors. Job Dissatisfaction']\n",
    "\n",
    "for i in tafe_dis_cols:\n",
    "    print(tafe_resignations[i].value_counts(dropna=False), '\\n')\n"
   ]
  },
  {
   "cell_type": "code",
   "execution_count": 20,
   "id": "95cf3fd7",
   "metadata": {},
   "outputs": [
    {
     "name": "stdout",
     "output_type": "stream",
     "text": [
      "False    270\n",
      "True      41\n",
      "Name: job_dissatisfaction, dtype: int64 \n",
      "\n",
      "False    282\n",
      "True      29\n",
      "Name: dissatisfaction_with_the_department, dtype: int64 \n",
      "\n",
      "False    305\n",
      "True       6\n",
      "Name: physical_work_environment, dtype: int64 \n",
      "\n",
      "False    278\n",
      "True      33\n",
      "Name: lack_of_recognition, dtype: int64 \n",
      "\n",
      "False    297\n",
      "True      14\n",
      "Name: lack_of_job_security, dtype: int64 \n",
      "\n",
      "False    293\n",
      "True      18\n",
      "Name: work_location, dtype: int64 \n",
      "\n",
      "False    288\n",
      "True      23\n",
      "Name: employment_conditions, dtype: int64 \n",
      "\n",
      "False    243\n",
      "True      68\n",
      "Name: work_life_balance, dtype: int64 \n",
      "\n",
      "False    284\n",
      "True      27\n",
      "Name: workload, dtype: int64 \n",
      "\n"
     ]
    }
   ],
   "source": [
    "# overview on dete dissatisfactions\n",
    "dete_dis_cols = ['job_dissatisfaction', 'dissatisfaction_with_the_department', 'physical_work_environment', 'lack_of_recognition',\n",
    "                 'lack_of_job_security', 'work_location', 'employment_conditions', 'work_life_balance', 'workload']\n",
    "\n",
    "for i in dete_dis_cols:\n",
    "    print(dete_resignations[i].value_counts(dropna=False),'\\n')"
   ]
  },
  {
   "cell_type": "code",
   "execution_count": 21,
   "id": "298b1be7",
   "metadata": {},
   "outputs": [
    {
     "name": "stdout",
     "output_type": "stream",
     "text": [
      "False    277\n",
      "True      55\n",
      "NaN        8\n",
      "Name: Contributing Factors. Dissatisfaction, dtype: int64 \n",
      "\n",
      "False    270\n",
      "True      62\n",
      "NaN        8\n",
      "Name: Contributing Factors. Job Dissatisfaction, dtype: int64 \n",
      "\n"
     ]
    }
   ],
   "source": [
    "# formatting function for tafe\n",
    "def update_vals(val):\n",
    "    if pd.isnull(val):\n",
    "        return np.nan\n",
    "    elif val == '-':\n",
    "        return False\n",
    "    else:\n",
    "        return True\n",
    "    \n",
    "tafe_resignations[tafe_dis_cols] = tafe_resignations[tafe_dis_cols].applymap(update_vals)\n",
    "\n",
    "# check updated overview\n",
    "for i in tafe_dis_cols:\n",
    "    print(tafe_resignations[i].value_counts(dropna=False), '\\n')"
   ]
  },
  {
   "cell_type": "markdown",
   "id": "8943445f",
   "metadata": {},
   "source": [
    "With correct formatting, we can now move on to adding a new column `dissatisfied` for each dataframe. If any relating categories to job dissatisfaction are `True`, the new column will record True for each entry."
   ]
  },
  {
   "cell_type": "code",
   "execution_count": 22,
   "id": "cc11814f",
   "metadata": {},
   "outputs": [
    {
     "name": "stdout",
     "output_type": "stream",
     "text": [
      "Dete Survey\n",
      "False    162\n",
      "True     149\n",
      "Name: dissatisfied, dtype: int64 \n",
      "\n",
      "Tafe Survey\n",
      "False    241\n",
      "True      99\n",
      "Name: dissatisfied, dtype: int64\n"
     ]
    }
   ],
   "source": [
    "# create new column dissatisfied\n",
    "dete_resignations['dissatisfied'] = dete_resignations[dete_dis_cols].any(axis=1,skipna=False)\n",
    "tafe_resignations['dissatisfied'] = tafe_resignations[tafe_dis_cols].any(axis=1,skipna=False)\n",
    "\n",
    "# create new dataframe to avoid SettingWithCopy Warning\n",
    "dete_resignations_up = dete_resignations.copy()\n",
    "tafe_resignations_up = tafe_resignations.copy()\n",
    "\n",
    "# check\n",
    "print(\"Dete Survey\")\n",
    "print(dete_resignations_up['dissatisfied'].value_counts(dropna=False), '\\n')\n",
    "print(\"Tafe Survey\")\n",
    "print(tafe_resignations_up['dissatisfied'].value_counts(dropna=False))                                                     "
   ]
  },
  {
   "cell_type": "markdown",
   "id": "f6d0ce4b",
   "metadata": {},
   "source": [
    "### Explanatory Recap\n",
    "***\n",
    "So far, we've done the following Exploratory steps:\n",
    "- renamed our columns\n",
    "- dropped irrelevant data\n",
    "- verified the quality of our data\n",
    "- created a new institute_service column\n",
    "- cleaned the contributing factors columns\n",
    "- created a new dissatisfied indication column"
   ]
  },
  {
   "cell_type": "markdown",
   "id": "ba879d3e",
   "metadata": {},
   "source": [
    "## Combining the Data\n",
    "***\n",
    "With clean, consistent, and relevant data we can move forward to combining our datasets."
   ]
  },
  {
   "cell_type": "code",
   "execution_count": 23,
   "id": "f63c20d7",
   "metadata": {},
   "outputs": [
    {
     "name": "stdout",
     "output_type": "stream",
     "text": [
      "<class 'pandas.core.frame.DataFrame'>\n",
      "RangeIndex: 651 entries, 0 to 650\n",
      "Data columns (total 10 columns):\n",
      " #   Column             Non-Null Count  Dtype  \n",
      "---  ------             --------------  -----  \n",
      " 0   id                 651 non-null    float64\n",
      " 1   separationtype     651 non-null    object \n",
      " 2   cease_date         635 non-null    object \n",
      " 3   position           598 non-null    object \n",
      " 4   employment_status  597 non-null    object \n",
      " 5   gender             592 non-null    object \n",
      " 6   age                596 non-null    object \n",
      " 7   institute_service  563 non-null    object \n",
      " 8   dissatisfied       651 non-null    bool   \n",
      " 9   institute          651 non-null    object \n",
      "dtypes: bool(1), float64(1), object(8)\n",
      "memory usage: 46.5+ KB\n"
     ]
    }
   ],
   "source": [
    "# add distinguishing columns\n",
    "dete_resignations_up['institute'] = \"DETE\"\n",
    "tafe_resignations_up['institute'] = \"TAFE\"\n",
    "\n",
    "# combine the data\n",
    "combined = pd.concat([dete_resignations_up, tafe_resignations_up], ignore_index=True)\n",
    "\n",
    "# drop unecessary columns\n",
    "combined_updated = combined.dropna(thresh=500, axis=1)\n",
    "\n",
    "# check\n",
    "combined_updated.info()"
   ]
  },
  {
   "cell_type": "code",
   "execution_count": 24,
   "id": "2554e891",
   "metadata": {},
   "outputs": [
    {
     "data": {
      "text/plain": [
       "Less than 1 year    73\n",
       "1-2                 64\n",
       "3-4                 63\n",
       "5-6                 33\n",
       "11-20               26\n",
       "5.0                 23\n",
       "1.0                 22\n",
       "7-10                21\n",
       "3.0                 20\n",
       "0.0                 20\n",
       "Name: institute_service, dtype: int64"
      ]
     },
     "execution_count": 24,
     "metadata": {},
     "output_type": "execute_result"
    }
   ],
   "source": [
    "# observe the inconsistent years of service column\n",
    "combined_updated['institute_service'].value_counts().head(10)"
   ]
  },
  {
   "cell_type": "markdown",
   "id": "387c0b05",
   "metadata": {},
   "source": [
    "Because we have so many different values in the `institute_service` column, we can batch them together categorically. We define the following based on the numner of years at a company criteria:\n",
    "- New: less than 3 years\n",
    "- Experienced: 3-6 years\n",
    "- Established: 7-10 years\n",
    "- Veteran: 11+ years"
   ]
  },
  {
   "cell_type": "code",
   "execution_count": 25,
   "id": "7256e750",
   "metadata": {},
   "outputs": [
    {
     "name": "stderr",
     "output_type": "stream",
     "text": [
      "/var/folders/p9/93z3csys0wvdgpmby0q6v4z00000gp/T/ipykernel_61657/1224688672.py:1: SettingWithCopyWarning: \n",
      "A value is trying to be set on a copy of a slice from a DataFrame.\n",
      "Try using .loc[row_indexer,col_indexer] = value instead\n",
      "\n",
      "See the caveats in the documentation: https://pandas.pydata.org/pandas-docs/stable/user_guide/indexing.html#returning-a-view-versus-a-copy\n",
      "  combined_updated['institute_service'] = combined_updated['institute_service'].astype(str).str.extract('(\\d+)').astype(float)\n"
     ]
    },
    {
     "data": {
      "text/plain": [
       "1.0     159\n",
       "3.0      83\n",
       "5.0      56\n",
       "7.0      34\n",
       "11.0     30\n",
       "0.0      20\n",
       "20.0     17\n",
       "6.0      17\n",
       "4.0      16\n",
       "9.0      14\n",
       "Name: institute_service, dtype: int64"
      ]
     },
     "execution_count": 25,
     "metadata": {},
     "output_type": "execute_result"
    }
   ],
   "source": [
    "combined_updated['institute_service'] = combined_updated['institute_service'].astype(str).str.extract('(\\d+)').astype(float)\n",
    "combined_updated['institute_service'].value_counts().head(10)"
   ]
  },
  {
   "cell_type": "code",
   "execution_count": 26,
   "id": "15981cad",
   "metadata": {},
   "outputs": [
    {
     "name": "stderr",
     "output_type": "stream",
     "text": [
      "/var/folders/p9/93z3csys0wvdgpmby0q6v4z00000gp/T/ipykernel_61657/3363712049.py:14: SettingWithCopyWarning: \n",
      "A value is trying to be set on a copy of a slice from a DataFrame.\n",
      "Try using .loc[row_indexer,col_indexer] = value instead\n",
      "\n",
      "See the caveats in the documentation: https://pandas.pydata.org/pandas-docs/stable/user_guide/indexing.html#returning-a-view-versus-a-copy\n",
      "  combined_updated['service_cat'] = combined_updated['institute_service'].apply(career_map)\n"
     ]
    },
    {
     "data": {
      "text/plain": [
       "New            193\n",
       "Veteran        159\n",
       "Experienced    155\n",
       "Established     56\n",
       "Name: service_cat, dtype: int64"
      ]
     },
     "execution_count": 26,
     "metadata": {},
     "output_type": "execute_result"
    }
   ],
   "source": [
    "# function to categorize employees according to career level\n",
    "def career_map(val):\n",
    "    if pd.isnull(val):\n",
    "        return np.nan\n",
    "    elif val < 3:\n",
    "        return 'New'\n",
    "    elif 3 <= val <6:\n",
    "        return 'Experienced'\n",
    "    elif 7 <= val < 10:\n",
    "        return 'Established'\n",
    "    else:\n",
    "        return 'Veteran'\n",
    "\n",
    "combined_updated['service_cat'] = combined_updated['institute_service'].apply(career_map)\n",
    "combined_updated['service_cat'].value_counts()"
   ]
  },
  {
   "cell_type": "markdown",
   "id": "b34a0871",
   "metadata": {},
   "source": [
    "With years of service grouped, lets standardize the age column and batch them into groups based on the following criteria:\n",
    "- Young Adults ages 20-30 years\n",
    "- Middle Aged Adults ages 31-45 years\n",
    "- Older Adults ages 46-60\n",
    "- Senior Adults ages 61+"
   ]
  },
  {
   "cell_type": "code",
   "execution_count": 27,
   "id": "d09a4d66",
   "metadata": {
    "scrolled": true
   },
   "outputs": [
    {
     "data": {
      "text/plain": [
       "51-55            71\n",
       "NaN              55\n",
       "41-45            48\n",
       "41  45           45\n",
       "46-50            42\n",
       "36-40            41\n",
       "46  50           39\n",
       "26-30            35\n",
       "21  25           33\n",
       "36  40           32\n",
       "31  35           32\n",
       "26  30           32\n",
       "21-25            29\n",
       "31-35            29\n",
       "56 or older      29\n",
       "56-60            26\n",
       "61 or older      23\n",
       "20 or younger    10\n",
       "Name: age, dtype: int64"
      ]
     },
     "execution_count": 27,
     "metadata": {},
     "output_type": "execute_result"
    }
   ],
   "source": [
    "combined_updated['age'].value_counts(dropna=False)"
   ]
  },
  {
   "cell_type": "code",
   "execution_count": 28,
   "id": "5426092e",
   "metadata": {},
   "outputs": [
    {
     "name": "stderr",
     "output_type": "stream",
     "text": [
      "/var/folders/p9/93z3csys0wvdgpmby0q6v4z00000gp/T/ipykernel_61657/490378530.py:2: SettingWithCopyWarning: \n",
      "A value is trying to be set on a copy of a slice from a DataFrame.\n",
      "Try using .loc[row_indexer,col_indexer] = value instead\n",
      "\n",
      "See the caveats in the documentation: https://pandas.pydata.org/pandas-docs/stable/user_guide/indexing.html#returning-a-view-versus-a-copy\n",
      "  combined_updated['age_groups'] = combined_updated['age'].astype(str).str.replace('  ','-')\n"
     ]
    },
    {
     "data": {
      "text/plain": [
       "41-45            93\n",
       "46-50            81\n",
       "36-40            73\n",
       "51-55            71\n",
       "26-30            67\n",
       "21-25            62\n",
       "31-35            61\n",
       "nan              55\n",
       "56 or older      29\n",
       "56-60            26\n",
       "61 or older      23\n",
       "20 or younger    10\n",
       "Name: age_groups, dtype: int64"
      ]
     },
     "execution_count": 28,
     "metadata": {},
     "output_type": "execute_result"
    }
   ],
   "source": [
    "# convert to string, standardize\n",
    "combined_updated['age_groups'] = combined_updated['age'].astype(str).str.replace('  ','-')\n",
    "\n",
    "combined_updated['age_groups'].value_counts()"
   ]
  },
  {
   "cell_type": "code",
   "execution_count": 29,
   "id": "22df3199",
   "metadata": {},
   "outputs": [
    {
     "name": "stderr",
     "output_type": "stream",
     "text": [
      "/var/folders/p9/93z3csys0wvdgpmby0q6v4z00000gp/T/ipykernel_61657/1972887623.py:19: SettingWithCopyWarning: \n",
      "A value is trying to be set on a copy of a slice from a DataFrame.\n",
      "Try using .loc[row_indexer,col_indexer] = value instead\n",
      "\n",
      "See the caveats in the documentation: https://pandas.pydata.org/pandas-docs/stable/user_guide/indexing.html#returning-a-view-versus-a-copy\n",
      "  combined_updated['ages'] = combined_updated['age_groups'].apply(age_map)\n"
     ]
    },
    {
     "data": {
      "text/plain": [
       "middle_age    227\n",
       "older_age     178\n",
       "young_age     139\n",
       "senior_age    107\n",
       "Name: ages, dtype: int64"
      ]
     },
     "execution_count": 29,
     "metadata": {},
     "output_type": "execute_result"
    }
   ],
   "source": [
    "# batch into groups by age\n",
    "young_age = ['20 or younger', '21-25','26-30']\n",
    "middle_age = ['31-35','36-40','41-45']\n",
    "older_age = ['46-50','51-55','56-60']\n",
    "senior_age = ['56 or older', '61 or older']\n",
    "\n",
    "def age_map(val):\n",
    "    if pd.isnull(val):\n",
    "        return np.nan\n",
    "    elif val in young_age:\n",
    "        return 'young_age'\n",
    "    elif val in middle_age:\n",
    "        return 'middle_age'\n",
    "    elif val in older_age:\n",
    "        return 'older_age'\n",
    "    else:\n",
    "        return 'senior_age'\n",
    "    \n",
    "combined_updated['ages'] = combined_updated['age_groups'].apply(age_map)\n",
    "combined_updated['ages'].value_counts()\n"
   ]
  },
  {
   "cell_type": "markdown",
   "id": "89da8916",
   "metadata": {},
   "source": [
    "Our data is now ready for analysis"
   ]
  },
  {
   "cell_type": "markdown",
   "id": "b8a15308",
   "metadata": {},
   "source": [
    "## Analysis\n",
    "***\n",
    "Remember our stakeholders want to know the following:\n",
    "1. Are employees who only worked for the institutes for a short period of time resigning due to some kind of dissatisfaction? What about employees who have been there longer?\n",
    "2. Are younger employees resigning due to some kind of dissatisfaction? What about older employees?\n",
    "\n",
    "In order to answer question 1, we'll analyze the `service_cat` column to understand if employment period is contributing to dissatisfaction.\n",
    "\n",
    "For question 2, we'll look at the `institute_service` column to understand if certain age groups are more dissatified than others."
   ]
  },
  {
   "cell_type": "code",
   "execution_count": 30,
   "id": "610bcaac",
   "metadata": {
    "scrolled": true
   },
   "outputs": [
    {
     "data": {
      "text/plain": [
       "False    403\n",
       "True     248\n",
       "Name: dissatisfied, dtype: int64"
      ]
     },
     "execution_count": 30,
     "metadata": {},
     "output_type": "execute_result"
    }
   ],
   "source": [
    "combined_updated['dissatisfied'].value_counts()"
   ]
  },
  {
   "cell_type": "code",
   "execution_count": 187,
   "id": "0b4e2892",
   "metadata": {},
   "outputs": [
    {
     "data": {
      "image/png": "[encoded data removed]",
      "text/plain": [
       "<Figure size 640x480 with 1 Axes>"
      ]
     },
     "metadata": {},
     "output_type": "display_data"
    }
   ],
   "source": [
    "### NEW GRAPHS FOR SERVICE CATEGORY:\n",
    "\n",
    "percent_dissatisfied_table = combined_updated.pivot_table(values='dissatisfied', index='service_cat')\n",
    " \n",
    "fig, ax = plt.subplots()\n",
    "plt.style.use('fivethirtyeight')\n",
    "\n",
    "ax.barh(percent_dissatisfied_table.index, percent_dissatisfied_table['dissatisfied'])\n",
    "\n",
    "# title\n",
    "ax.text(-0.1,3.7,'Nearly 50% of Established and Veteran Workers\\nResigned Due to Job Dissatisfaction',\n",
    "        fontsize=16, fontweight='bold')\n",
    "\n",
    "# rid grid\n",
    "ax.grid(visible=False)\n",
    "\n",
    "# x\n",
    "ax.set_xlim(0.1,1)\n",
    "\n",
    "ax.set_xticklabels([])\n",
    "ax.text(0.085, -0.85, '0%', alpha=0.5)\n",
    "ax.text(0.475, -0.85, '50%', alpha=0.5)\n",
    "ax.text(0.85, -0.85, '100%', alpha=0.5)\n",
    "\n",
    "# y\n",
    "ax.set_yticklabels([])\n",
    "ax.text(-0.03, 2.95, 'Veteran', alpha=0.5)\n",
    "ax.text(0.02, 1.95, 'New', alpha=0.5)\n",
    "ax.text(-0.11, 0.97, 'Experienced', alpha=0.5)\n",
    "ax.text(-0.1, -0.07, 'Established', alpha=0.5)\n",
    "\n",
    "# 50 percent line\n",
    "ax.axvline(0.5, linewidth=1.4, color='red')\n",
    "\n",
    "plt.show()        \n",
    "   "
   ]
  },
  {
   "cell_type": "code",
   "execution_count": null,
   "id": "c44b997f",
   "metadata": {},
   "outputs": [],
   "source": [
    "percent_dissatisfied_table = combined_updated.pivot_table(values='dissatisfied', index='service_cat')\n",
    "percent_dissatisfied_table.plot(kind='barh')"
   ]
  },
  {
   "cell_type": "markdown",
   "id": "1732f015",
   "metadata": {},
   "source": [
    "This chart reveals the following about employees who resigned:\n",
    "- Nearly 30% were dissatisfied in some way\n",
    "- Roughly 50 percent of Established (7-10 Years) and Veteran (11+ years) workers were dissatified in some way\n",
    "\n",
    "**Workers who maintained 7 or more years of employment under a single business reported the highest percentage dissatisfaction.**"
   ]
  },
  {
   "cell_type": "code",
   "execution_count": 188,
   "id": "6ffb807b",
   "metadata": {},
   "outputs": [
    {
     "data": {
      "text/plain": [
       "<Axes: ylabel='ages'>"
      ]
     },
     "execution_count": 188,
     "metadata": {},
     "output_type": "execute_result"
    },
    {
     "data": {
      "image/png": "[encoded data removed]",
      "text/plain": [
       "<Figure size 640x480 with 1 Axes>"
      ]
     },
     "metadata": {},
     "output_type": "display_data"
    }
   ],
   "source": [
    "percent_dissatisfied_table_2 = combined_updated.pivot_table(values='dissatisfied', index='ages')\n",
    "percent_dissatisfied_table_2.plot(kind='barh')\n"
   ]
  },
  {
   "cell_type": "markdown",
   "id": "9a779aa7",
   "metadata": {},
   "source": [
    "This chart reveals the following about employees who resigned:\n",
    "- Rougly 35 percent of workers of all ages were dissatisfied in some way\n",
    "- Over 40 percent of older aged (46-50 years old) workers were dissatisfied in some way\n",
    "\n",
    "**While age is not a significant factor in employee dissatisfaction, workers between the ages of 46-50 have reported the highest percentage of dissatisfaction.**"
   ]
  },
  {
   "cell_type": "markdown",
   "id": "9e85bd0f",
   "metadata": {},
   "source": [
    "## Conclusion\n",
    "***\n",
    "#### Our analysis led us to the following data-driven conclusion:\n",
    "\n",
    "Employees who have been with the company for a longer period of time are more likely to resign due to some aspect of job dissatisfaction. Although the correlation between employee age and job dissatisfaction is not very strong, older workers are more likely to leave the company due to dissatisfaction.\n",
    "\n",
    "#### With this in mind, we suggest the following:\n",
    "\n",
    "Deploy stronger employee retention strategies for employees who are both older and have been working at your company for longer.\n"
   ]
  }
 ],
 "metadata": {
  "kernelspec": {
   "display_name": "Python 3 (ipykernel)",
   "language": "python",
   "name": "python3"
  },
  "language_info": {
   "codemirror_mode": {
    "name": "ipython",
    "version": 3
   },
   "file_extension": ".py",
   "mimetype": "text/x-python",
   "name": "python",
   "nbconvert_exporter": "python",
   "pygments_lexer": "ipython3",
   "version": "3.10.9"
  }
 },
 "nbformat": 4,
 "nbformat_minor": 5
}
